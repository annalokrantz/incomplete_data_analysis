{
 "cells": [
  {
   "cell_type": "markdown",
   "metadata": {},
   "source": [
    "# Question 4"
   ]
  },
  {
   "cell_type": "markdown",
   "metadata": {},
   "source": [
    "## (a) Complete case analysis"
   ]
  },
  {
   "cell_type": "code",
   "execution_count": null,
   "metadata": {},
   "outputs": [],
   "source": [
    "load(\"databp.Rdata\")\n",
    "# (a) Carry out a complete case analysis to find the mean value of recovtime. \n",
    "# Also compute the associated standard error of the mean.\n",
    "print(databp)\n",
    "# overall\n",
    "ind <- which(is.na(databp$recovtime) == FALSE) # Indices of subjects with recovtime observed\n",
    "mccoverall <- mean(databp$recovtime, na.rm = TRUE) # Overall\n",
    "seccoverall <- sd(databp$recovtime, na.rm = TRUE)/sqrt(length(ind))\n",
    "mccoverall; seccoverall\n",
    "\n",
    "#databp <- subset(databp, is.na(databp$recovtime) == FALSE)"
   ]
  },
  {
   "cell_type": "code",
   "execution_count": null,
   "metadata": {},
   "outputs": [],
   "source": [
    "# Pearson correlations\n",
    "# 1) recovery time and dose\n",
    "cor1 <- cor(databp$recovtime, databp$logdose,  method = \"pearson\", use = \"complete.obs\")\n",
    "\n",
    "# 2) recovery time and blood pressure\n",
    "cor2 <- cor(databp$recovtime, databp$bloodp,  method = \"pearson\", use = \"complete.obs\")\n",
    "\n",
    "cor1;cor2"
   ]
  },
  {
   "cell_type": "markdown",
   "metadata": {},
   "source": [
    "## (b) Mean imputation"
   ]
  },
  {
   "cell_type": "code",
   "execution_count": null,
   "metadata": {},
   "outputs": [],
   "source": [
    "rctmi <- ifelse(is.na(databp$recovtime) == TRUE, mean(databp$recovtime, na.rm = TRUE), databp$recovtime)\n",
    "n <- length(rctmi)\n",
    "mmi <- mean(rctmi)\n",
    "semi <- sd(rctmi)/sqrt(n)\n",
    "mmi; semi\n",
    "\n",
    "# Pearson correlations\n",
    "# 1) recovery time and dose\n",
    "cor1 <- cor(rctmi, databp$logdose,  method = \"pearson\", use = \"everything\")\n",
    "\n",
    "# 2) recovery time and blood pressure\n",
    "cor2 <- cor(rctmi, databp$bloodp,  method = \"pearson\", use = \"everything\")\n",
    "\n",
    "cor1;cor2"
   ]
  },
  {
   "cell_type": "markdown",
   "metadata": {},
   "source": [
    "## (c) Regression imputation"
   ]
  },
  {
   "cell_type": "code",
   "execution_count": null,
   "metadata": {},
   "outputs": [],
   "source": [
    "fitrecovtime <- lm(recovtime ~ bloodp + logdose, data = databp)\n",
    "summary(fitrecovtime)"
   ]
  },
  {
   "cell_type": "code",
   "execution_count": null,
   "metadata": {},
   "outputs": [],
   "source": [
    "# Regression imputation\n",
    "predri <- predict(fitrecovtime, newdata = databp)\n",
    "\n",
    "recovtimeri <- ifelse(is.na(databp$recovtime) == TRUE, predri, databp$recovtime)\n",
    "\n",
    "print(recovtimeri)\n",
    "n <- length(recovtimeri)\n",
    "mri <- mean(recovtimeri)\n",
    "seri <- sd(recovtimeri)/sqrt(n)\n",
    "mri; seri\n",
    "\n",
    "# Pearson correlations\n",
    "# 1) recovery time and dose\n",
    "cor1 <- cor(recovtimeri, databp$logdose,  method = \"pearson\", use = \"everything\")\n",
    "\n",
    "# 2) recovery time and blood pressure\n",
    "cor2 <- cor(recovtimeri, databp$bloodp,  method = \"pearson\", use = \"everything\")\n",
    "\n",
    "cor1;cor2"
   ]
  },
  {
   "cell_type": "markdown",
   "metadata": {},
   "source": [
    "## (d) Stochastic regression imputation"
   ]
  },
  {
   "cell_type": "code",
   "execution_count": null,
   "metadata": {},
   "outputs": [],
   "source": [
    "# Making sure we don't predict negative values for the recovery time\n",
    "for(i in 1:20){\n",
    "predsri <- predict(fitrecovtime, newdata = databp) + rnorm(n, 0, sigma(fitrecovtime))\n",
    "\n",
    "lessthan <- predsri<0\n",
    "if(!(TRUE %in% lessthan)) break \n",
    "}\n",
    "\n",
    "print(lessthan)\n",
    "recovtimesri <- ifelse(is.na(databp$recovtime) == TRUE, predsri, databp$recovtime)\n",
    "n <- length(recovtimesri)\n",
    "msri <- mean(recovtimesri)\n",
    "sesri <- sd(recovtimesri)/sqrt(n)\n",
    "msri; sesri\n",
    "\n",
    "# Pearson correlations\n",
    "# 1) recovery time and dose\n",
    "cor1 <- cor(recovtimesri, databp$logdose,  method = \"pearson\", use = \"everything\")\n",
    "\n",
    "# 2) recovery time and blood pressure\n",
    "cor2 <- cor(recovtimesri, databp$bloodp,  method = \"pearson\", use = \"everything\")\n",
    "\n",
    "cor1;cor2"
   ]
  },
  {
   "cell_type": "markdown",
   "metadata": {},
   "source": [
    "## (e) Hot deck imputation"
   ]
  },
  {
   "cell_type": "code",
   "execution_count": null,
   "metadata": {},
   "outputs": [],
   "source": [
    "# Get indices for missing values\n",
    "indmissing_recovtime <- which(is.na(databp$recovtime) == TRUE)\n",
    "print(indmissing_recovtime)\n",
    "\n",
    "# Predict values of recovtime using linear regression\n",
    "fitrecovtime <- lm(recovtime ~ bloodp + logdose, data = databp)\n",
    "predri <- predict(fitrecovtime, newdata = databp)\n",
    "# predicted values according to linear regression\n",
    "recovtimeri <- ifelse(is.na(databp$recovtime) == TRUE, predri, databp$recovtime)\n",
    "\n",
    "# Predicted values for missing values\n",
    "mval1 = recovtimeri[4]\n",
    "mval2 = recovtimeri[10]\n",
    "mval3 = recovtimeri[22]\n",
    "\n",
    "square_difference_1 <- list()\n",
    "square_difference_2 <- list()\n",
    "square_difference_3 <- list()\n",
    "\n",
    "# loop over predicted values and calculate the squared difference if not one of the missing values!\n",
    "for(elem in recovtimeri){\n",
    "    if(elem == mval1 | elem == mval2 | elem == mval3){\n",
    "        # Insert a large value if we encounter one of the missing ones since\n",
    "        # since we are not interested in selecting one of these\n",
    "        square_difference_1 <- append(square_difference_1, Inf)\n",
    "        square_difference_2 <- append(square_difference_2, Inf)\n",
    "        square_difference_3 <- append(square_difference_3, Inf)\n",
    "        \n",
    "    }else{\n",
    "        square_difference_1 <- append(square_difference_1, (elem-mval1)^2)\n",
    "        square_difference_2 <- append(square_difference_2, (elem-mval2)^2)\n",
    "        square_difference_3 <- append(square_difference_3, (elem-mval3)^2)\n",
    "    }\n",
    "    \n",
    "}\n",
    "\n",
    "donor4 <- which.min(square_difference_1)\n",
    "donor10 <- which.min(square_difference_2)\n",
    "donor22 <- which.min(square_difference_3)\n",
    "\n",
    "donor4;donor10;donor22\n",
    "\n",
    "\n",
    "# Start with whole dataframe\n",
    "recovtimehdimp <- c(databp$recovtime)\n",
    "\n",
    "# Impute values at missing value positions, since it matters for correlation where the values are\n",
    "recovtimehdimp[indmissing_recovtime]<- c(databp$recovtime[donor4],databp$recovtime[donor10],\n",
    "databp$recovtime[donor22])\n",
    "\n",
    "n <- length(recovtimehdimp)\n",
    "mhd <- mean(recovtimehdimp); sehd <- sd(recovtimehdimp)/sqrt(n)\n",
    "\n",
    "mhd; sehd\n",
    "\n",
    "\n",
    "# Pearson correlations\n",
    "# 1) recovery time and dose\n",
    "cor1 <- cor(recovtimehdimp, databp$logdose,  method = \"pearson\", use = \"everything\")\n",
    "\n",
    "# 2) recovery time and blood pressure\n",
    "cor2 <- cor(recovtimehdimp, databp$bloodp,  method = \"pearson\", use = \"everything\")\n",
    "\n",
    "cor1;cor2"
   ]
  },
  {
   "cell_type": "code",
   "execution_count": null,
   "metadata": {},
   "outputs": [],
   "source": []
  }
 ],
 "metadata": {
  "kernelspec": {
   "display_name": "R",
   "language": "R",
   "name": "ir"
  },
  "language_info": {
   "codemirror_mode": "r",
   "file_extension": ".r",
   "mimetype": "text/x-r-source",
   "name": "R",
   "pygments_lexer": "r",
   "version": "3.6.1"
  }
 },
 "nbformat": 4,
 "nbformat_minor": 4
}
