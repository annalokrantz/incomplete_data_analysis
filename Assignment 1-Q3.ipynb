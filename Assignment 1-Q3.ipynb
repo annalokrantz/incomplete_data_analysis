{
 "cells": [
  {
   "cell_type": "markdown",
   "metadata": {},
   "source": [
    "# Question 3"
   ]
  },
  {
   "cell_type": "markdown",
   "metadata": {},
   "source": [
    "## Simulate data "
   ]
  },
  {
   "cell_type": "code",
   "execution_count": null,
   "metadata": {},
   "outputs": [],
   "source": [
    "require(MASS)\n",
    "require(norm)\n",
    "#require(VIM)\n",
    "set.seed(1)\n",
    "n <- 500\n",
    "\n",
    "# From sum of normal random variables etc\n",
    "mu1 <- 1\n",
    "mu2 <- 5\n",
    "mu3 <- 0\n",
    "sigma1 <- 1\n",
    "sigma2 <- 5\n",
    "sigma3 <-1 \n",
    "\n",
    "# Generate n samples from normal distributions\n",
    "Y1 <- rnorm(n, mu1, sigma1)\n",
    "Y2 <- rnorm(n, mu2, sigma2)\n",
    "Z3 <- rnorm(n, mu3, sigma3)\n"
   ]
  },
  {
   "cell_type": "markdown",
   "metadata": {},
   "source": [
    "### (a)"
   ]
  },
  {
   "cell_type": "code",
   "execution_count": null,
   "metadata": {},
   "outputs": [],
   "source": [
    "# The mechanism is mar because the missingness in Y2 depends only on the observed variable\n",
    "set.seed(2)\n",
    "a = 2\n",
    "b = 0\n",
    "\n",
    "indicator <- a*Y1 - a + b*Y2 - 5*b + Z3 \n",
    "# Values are missing if indicator is < 0\n",
    "ind_mar <- which(indicator < 0)\n",
    "\n",
    "#storing the observed and missing values in new variables\n",
    "Y2_MAR_obs <- Y2[-ind_mar]\n",
    "Y2_MAR_mis <- Y2[ind_mar]\n",
    "\n",
    "# plot densities\n",
    "#pdf(\"MAR_complete_observed.pdf\")\n",
    "plot(density(Y2), lwd = 2, col = \"blue\", xlab = expression(Y[2]),\n",
    "main = \"MAR\", ylim = c(0, 0.15))\n",
    "lines(density(Y2_MAR_obs), lwd = 2, col = \"darkgreen\")\n",
    "legend(10, 0.15, legend = c(\"Complete data\", \"Observed data\"),\n",
    "col = c(\"blue\", \"darkgreen\"), lty = c(1,1), lwd = c(2,2), bty =\"n\")\n",
    "#dev.off()"
   ]
  },
  {
   "cell_type": "markdown",
   "metadata": {},
   "source": [
    "### (b)"
   ]
  },
  {
   "cell_type": "code",
   "execution_count": null,
   "metadata": {},
   "outputs": [],
   "source": [
    "# Stochastic regression imputation\n",
    "Y2_WITH_NA <-Y2\n",
    "Y2_WITH_NA[ind_mar] <-NA\n",
    "\n",
    "print(length(Y2))\n",
    "print(length(Y2_WITH_NA))\n",
    "\n",
    "data <- data.frame(Y1 = Y1, Y2 = Y2_WITH_NA)\n",
    "\n",
    "# 1 fit regression coefficients\n",
    "fit <- lm(Y2 ~ Y1, data = data)\n",
    "\n",
    "# adding noise to the regression model = stochastic regression imputaton\n",
    "# predict Y_2\n",
    "predicted_sri <- predict(fit, newdata = data) + rnorm(nrow(data), 0, sigma(fit))\n",
    "# imputate\n",
    "Y2_sri <- ifelse(is.na(data$Y2), predicted_sri, data$Y2)\n",
    "\n",
    "#plot densities\n",
    "#pdf(\"MAR_stochastic_10.pdf\")\n",
    "plot(density(Y2), lwd = 2, col = \"blue\", xlab = expression(Y[2]),\n",
    "main = \"MAR\", ylim = c(0, 0.15))\n",
    "lines(density(Y2_sri), lwd = 2, col = \"darkgreen\")\n",
    "legend(10, 0.15, legend = c(\"Complete data\", \"Imputated data\"),\n",
    "col = c(\"blue\", \"darkgreen\"), lty = c(1,1), lwd = c(2,2), bty =\"n\")\n",
    "#dev.off()"
   ]
  },
  {
   "cell_type": "markdown",
   "metadata": {},
   "source": [
    "### (c)"
   ]
  },
  {
   "cell_type": "code",
   "execution_count": null,
   "metadata": {},
   "outputs": [],
   "source": [
    "# MNAR because missingness is related to the variable itself\n",
    "set.seed(2)\n",
    "a = 0\n",
    "b = 2\n",
    "indicator <- a*Y1 - a + b*Y2 - 5*b + Z3 \n",
    "ind_mnar <- which(indicator < 0)\n",
    "\n",
    "#storing the observed and missing values in new variables\n",
    "Y2_MNAR_obs <- Y2[-ind_mnar]\n",
    "Y2_MNAR_mis <- Y2[ind_mnar]\n",
    "\n",
    "# plot densities\n",
    "#pdf(\"MNAR_complete_observed.pdf\")\n",
    "plot(density(Y2), lwd = 2, col = \"blue\", xlab = expression(Y[2]),\n",
    "main = \"MNAR\", ylim = c(0, 0.15))\n",
    "lines(density(Y2_MNAR_obs), lwd = 2, col = \"darkgreen\")\n",
    "legend(10, 0.15, legend = c(\"Complete data\", \"Observed data\"),\n",
    "col = c(\"blue\", \"darkgreen\"), lty = c(1,1), lwd = c(2,2), bty =\"n\")\n",
    "#dev.off()"
   ]
  },
  {
   "cell_type": "markdown",
   "metadata": {},
   "source": [
    "### (d)"
   ]
  },
  {
   "cell_type": "code",
   "execution_count": null,
   "metadata": {},
   "outputs": [],
   "source": [
    "# Stochastic regression imputation\n",
    "Y2_WITH_NA <-Y2\n",
    "Y2_WITH_NA[ind_mnar] <-NA\n",
    "\n",
    "data <- data.frame(Y1 = Y1, Y2 = Y2_WITH_NA)\n",
    "# 1 fit regression coefficients\n",
    "fit <- lm(Y2 ~ Y1, data = data)\n",
    "\n",
    "#fit$coefficients\n",
    "\n",
    "# adding noise to the regression model = stochastic regression imputaton\n",
    "predicted_sri <- predict(fit, newdata = data) + rnorm(nrow(data), 0, sigma(fit))\n",
    "# imputate\n",
    "Y2_sri <- ifelse(is.na(data$Y2), predicted_sri, data$Y2)\n",
    "\n",
    "\n",
    "#plot densities\n",
    "#pdf(\"MNAR_sri_2.pdf\")\n",
    "plot(density(Y2), lwd = 2, col = \"blue\", xlab = expression(Y[2]),\n",
    "main = \"MNAR\", ylim = c(0, 0.15))\n",
    "lines(density(Y2_sri), lwd = 2, col = \"darkgreen\")\n",
    "legend(1, 0.15, legend = c(\"Complete data\", \"Imputated data\"),\n",
    "col = c(\"blue\", \"darkgreen\"), lty = c(1,1), lwd = c(2,2), bty =\"n\")\n",
    "#dev.off()"
   ]
  },
  {
   "cell_type": "code",
   "execution_count": null,
   "metadata": {},
   "outputs": [],
   "source": []
  }
 ],
 "metadata": {
  "kernelspec": {
   "display_name": "R",
   "language": "R",
   "name": "ir"
  },
  "language_info": {
   "codemirror_mode": "r",
   "file_extension": ".r",
   "mimetype": "text/x-r-source",
   "name": "R",
   "pygments_lexer": "r",
   "version": "3.6.1"
  }
 },
 "nbformat": 4,
 "nbformat_minor": 4
}
